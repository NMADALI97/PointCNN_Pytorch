{
  "nbformat": 4,
  "nbformat_minor": 0,
  "metadata": {
    "colab": {
      "name": "PointCNN_Seg.ipynb",
      "provenance": [],
      "collapsed_sections": []
    },
    "kernelspec": {
      "name": "python3",
      "display_name": "Python 3"
    },
    "accelerator": "GPU",
    "widgets": {
      "application/vnd.jupyter.widget-state+json": {
        "3e1a6d9760714b12bf8c4ce6ddc7c4cb": {
          "model_module": "@jupyter-widgets/controls",
          "model_name": "HBoxModel",
          "state": {
            "_view_name": "HBoxView",
            "_dom_classes": [],
            "_model_name": "HBoxModel",
            "_view_module": "@jupyter-widgets/controls",
            "_model_module_version": "1.5.0",
            "_view_count": null,
            "_view_module_version": "1.5.0",
            "box_style": "",
            "layout": "IPY_MODEL_56290c8d4ce74b0ea161f551873ba920",
            "_model_module": "@jupyter-widgets/controls",
            "children": [
              "IPY_MODEL_7af6863fa8744f62a4988832eabcc13f",
              "IPY_MODEL_c0bd99796a3340b5897e6647b331568c"
            ]
          }
        },
        "56290c8d4ce74b0ea161f551873ba920": {
          "model_module": "@jupyter-widgets/base",
          "model_name": "LayoutModel",
          "state": {
            "_view_name": "LayoutView",
            "grid_template_rows": null,
            "right": null,
            "justify_content": null,
            "_view_module": "@jupyter-widgets/base",
            "overflow": null,
            "_model_module_version": "1.2.0",
            "_view_count": null,
            "flex_flow": null,
            "width": null,
            "min_width": null,
            "border": null,
            "align_items": null,
            "bottom": null,
            "_model_module": "@jupyter-widgets/base",
            "top": null,
            "grid_column": null,
            "overflow_y": null,
            "overflow_x": null,
            "grid_auto_flow": null,
            "grid_area": null,
            "grid_template_columns": null,
            "flex": null,
            "_model_name": "LayoutModel",
            "justify_items": null,
            "grid_row": null,
            "max_height": null,
            "align_content": null,
            "visibility": null,
            "align_self": null,
            "height": null,
            "min_height": null,
            "padding": null,
            "grid_auto_rows": null,
            "grid_gap": null,
            "max_width": null,
            "order": null,
            "_view_module_version": "1.2.0",
            "grid_template_areas": null,
            "object_position": null,
            "object_fit": null,
            "grid_auto_columns": null,
            "margin": null,
            "display": null,
            "left": null
          }
        },
        "7af6863fa8744f62a4988832eabcc13f": {
          "model_module": "@jupyter-widgets/controls",
          "model_name": "FloatProgressModel",
          "state": {
            "_view_name": "ProgressView",
            "style": "IPY_MODEL_edc51f7c56cb4d1db7f8cd87164e4e64",
            "_dom_classes": [],
            "description": "  0%",
            "_model_name": "FloatProgressModel",
            "bar_style": "danger",
            "max": 876,
            "_view_module": "@jupyter-widgets/controls",
            "_model_module_version": "1.5.0",
            "value": 0,
            "_view_count": null,
            "_view_module_version": "1.5.0",
            "orientation": "horizontal",
            "min": 0,
            "description_tooltip": null,
            "_model_module": "@jupyter-widgets/controls",
            "layout": "IPY_MODEL_2a89641d100c453aadb94988ebdb1ffc"
          }
        },
        "c0bd99796a3340b5897e6647b331568c": {
          "model_module": "@jupyter-widgets/controls",
          "model_name": "HTMLModel",
          "state": {
            "_view_name": "HTMLView",
            "style": "IPY_MODEL_4a6986a3d1414127aebc3c91a4a0cb31",
            "_dom_classes": [],
            "description": "",
            "_model_name": "HTMLModel",
            "placeholder": "​",
            "_view_module": "@jupyter-widgets/controls",
            "_model_module_version": "1.5.0",
            "value": " 0/876 [00:05&lt;?, ?it/s]",
            "_view_count": null,
            "_view_module_version": "1.5.0",
            "description_tooltip": null,
            "_model_module": "@jupyter-widgets/controls",
            "layout": "IPY_MODEL_9d1edc13bad9428dbffdc8c5d51aa614"
          }
        },
        "edc51f7c56cb4d1db7f8cd87164e4e64": {
          "model_module": "@jupyter-widgets/controls",
          "model_name": "ProgressStyleModel",
          "state": {
            "_view_name": "StyleView",
            "_model_name": "ProgressStyleModel",
            "description_width": "initial",
            "_view_module": "@jupyter-widgets/base",
            "_model_module_version": "1.5.0",
            "_view_count": null,
            "_view_module_version": "1.2.0",
            "bar_color": null,
            "_model_module": "@jupyter-widgets/controls"
          }
        },
        "2a89641d100c453aadb94988ebdb1ffc": {
          "model_module": "@jupyter-widgets/base",
          "model_name": "LayoutModel",
          "state": {
            "_view_name": "LayoutView",
            "grid_template_rows": null,
            "right": null,
            "justify_content": null,
            "_view_module": "@jupyter-widgets/base",
            "overflow": null,
            "_model_module_version": "1.2.0",
            "_view_count": null,
            "flex_flow": null,
            "width": null,
            "min_width": null,
            "border": null,
            "align_items": null,
            "bottom": null,
            "_model_module": "@jupyter-widgets/base",
            "top": null,
            "grid_column": null,
            "overflow_y": null,
            "overflow_x": null,
            "grid_auto_flow": null,
            "grid_area": null,
            "grid_template_columns": null,
            "flex": null,
            "_model_name": "LayoutModel",
            "justify_items": null,
            "grid_row": null,
            "max_height": null,
            "align_content": null,
            "visibility": null,
            "align_self": null,
            "height": null,
            "min_height": null,
            "padding": null,
            "grid_auto_rows": null,
            "grid_gap": null,
            "max_width": null,
            "order": null,
            "_view_module_version": "1.2.0",
            "grid_template_areas": null,
            "object_position": null,
            "object_fit": null,
            "grid_auto_columns": null,
            "margin": null,
            "display": null,
            "left": null
          }
        },
        "4a6986a3d1414127aebc3c91a4a0cb31": {
          "model_module": "@jupyter-widgets/controls",
          "model_name": "DescriptionStyleModel",
          "state": {
            "_view_name": "StyleView",
            "_model_name": "DescriptionStyleModel",
            "description_width": "",
            "_view_module": "@jupyter-widgets/base",
            "_model_module_version": "1.5.0",
            "_view_count": null,
            "_view_module_version": "1.2.0",
            "_model_module": "@jupyter-widgets/controls"
          }
        },
        "9d1edc13bad9428dbffdc8c5d51aa614": {
          "model_module": "@jupyter-widgets/base",
          "model_name": "LayoutModel",
          "state": {
            "_view_name": "LayoutView",
            "grid_template_rows": null,
            "right": null,
            "justify_content": null,
            "_view_module": "@jupyter-widgets/base",
            "overflow": null,
            "_model_module_version": "1.2.0",
            "_view_count": null,
            "flex_flow": null,
            "width": null,
            "min_width": null,
            "border": null,
            "align_items": null,
            "bottom": null,
            "_model_module": "@jupyter-widgets/base",
            "top": null,
            "grid_column": null,
            "overflow_y": null,
            "overflow_x": null,
            "grid_auto_flow": null,
            "grid_area": null,
            "grid_template_columns": null,
            "flex": null,
            "_model_name": "LayoutModel",
            "justify_items": null,
            "grid_row": null,
            "max_height": null,
            "align_content": null,
            "visibility": null,
            "align_self": null,
            "height": null,
            "min_height": null,
            "padding": null,
            "grid_auto_rows": null,
            "grid_gap": null,
            "max_width": null,
            "order": null,
            "_view_module_version": "1.2.0",
            "grid_template_areas": null,
            "object_position": null,
            "object_fit": null,
            "grid_auto_columns": null,
            "margin": null,
            "display": null,
            "left": null
          }
        }
      }
    }
  },
  "cells": [
    {
      "cell_type": "code",
      "metadata": {
        "id": "_Tt5WgCq_JtN",
        "colab": {
          "base_uri": "https://localhost:8080/"
        },
        "outputId": "92be3f0f-6a60-4507-8e85-7f95ecb892bb"
      },
      "source": [
        "!pip install plyfile"
      ],
      "execution_count": 1,
      "outputs": [
        {
          "output_type": "stream",
          "text": [
            "Collecting plyfile\n",
            "  Downloading https://files.pythonhosted.org/packages/93/c8/cf47848cd4d661850e4a8e7f0fc4f7298515e06d0da7255ed08e5312d4aa/plyfile-0.7.2-py3-none-any.whl\n",
            "Requirement already satisfied: numpy>=1.8 in /usr/local/lib/python3.6/dist-packages (from plyfile) (1.19.4)\n",
            "Installing collected packages: plyfile\n",
            "Successfully installed plyfile-0.7.2\n"
          ],
          "name": "stdout"
        }
      ]
    },
    {
      "cell_type": "code",
      "metadata": {
        "id": "CJtdzbie_hqd"
      },
      "source": [
        "!unzip PointCNN_Pytorch.zip"
      ],
      "execution_count": null,
      "outputs": []
    },
    {
      "cell_type": "code",
      "metadata": {
        "id": "B5PFwB0T_twN"
      },
      "source": [
        "from __future__ import print_function\r\n",
        "import argparse\r\n",
        "import os\r\n",
        "import csv\r\n",
        "import numpy as np\r\n",
        "import random\r\n",
        "import torch\r\n",
        "import torch.nn as nn\r\n",
        "import torch.optim as optim\r\n",
        "import torch.nn.functional as F\r\n",
        "from torch.utils.data import Dataset, DataLoader\r\n",
        "\r\n",
        "from data_class import ModelNet40,ShapeNetPart\r\n",
        "from transforms_3d import *\r\n",
        "\r\n",
        "\r\n",
        "from pointcnn import PointCNNCls,PointCNN_partseg\r\n",
        "\r\n",
        "from utils import progress_bar, adjust_lr_steep, log_row"
      ],
      "execution_count": 3,
      "outputs": []
    },
    {
      "cell_type": "code",
      "metadata": {
        "id": "VhMEEbKxwXfU"
      },
      "source": [
        "def calculate_shape_IoU(pred_np, seg_np, label, class_choice):\r\n",
        "    \r\n",
        "    shape_ious = []\r\n",
        "    \r\n",
        "    for shape_idx in range(seg_np.shape[0]):\r\n",
        "        if not class_choice:\r\n",
        "            # print (label[shape_idx][0])\r\n",
        "            idx = label[shape_idx][0]\r\n",
        "            start_index = index_start[idx]\r\n",
        "            num = seg_num[idx]\r\n",
        "            parts = range(start_index, start_index + num)\r\n",
        "        else:\r\n",
        "            parts = range(seg_num[label[0]])\r\n",
        "        part_ious = []\r\n",
        "        for part in parts:\r\n",
        "            I = np.sum(np.logical_and(pred_np[shape_idx] == part, seg_np[shape_idx] == part))\r\n",
        "            U = np.sum(np.logical_or(pred_np[shape_idx] == part, seg_np[shape_idx] == part))\r\n",
        "            if U == 0:\r\n",
        "                iou = 1  # If the union of groundtruth and prediction points is empty, then count part IoU as 1\r\n",
        "            else:\r\n",
        "                iou = I / float(U)\r\n",
        "            # print ('iou ', part, iou)\r\n",
        "            part_ious.append(iou)\r\n",
        "        shape_ious.append(np.mean(part_ious))\r\n",
        "    \r\n",
        "\r\n",
        "    return shape_ious\r\n",
        "\r\n"
      ],
      "execution_count": 4,
      "outputs": []
    },
    {
      "cell_type": "code",
      "metadata": {
        "id": "Y5kR5BM6AG26"
      },
      "source": [
        "device = torch.device(\"cuda\" if torch.cuda.is_available() else \"cpu\")\r\n",
        "model = PointCNN_partseg(50)\r\n",
        "model = model.to(device) \r\n",
        "model = nn.DataParallel(model) \r\n",
        "\r\n",
        "optimizer = torch.optim.Adam(model.parameters(), lr=0.001, betas=(0.9, 0.999))\r\n",
        "\r\n",
        "data_,model_,name_=\"ShapeNet\", \"PointCNN\", \"seg\""
      ],
      "execution_count": 5,
      "outputs": []
    },
    {
      "cell_type": "code",
      "metadata": {
        "id": "FqvceejOlVhN"
      },
      "source": [
        "def save_ckpt(epoch, model, optimizer, acc_list):\r\n",
        "    \r\n",
        "    if not os.path.isdir('checkpoints'):\r\n",
        "        os.mkdir('checkpoints')\r\n",
        "    \r\n",
        "    if not os.path.isdir('checkpoints/%s_%s_%s'%(data_,model_,name_)):\r\n",
        "        os.mkdir('checkpoints/%s_%s_%s'%(data_,model_,name_))\r\n",
        "    if (epoch % 20 == 0) or (epoch in adj_lr['steps']) or (acc_list[-1] > max(acc_list[:-1])):\r\n",
        "        print('=====> Saving checkpoint...')\r\n",
        "        state = {\r\n",
        "                'epoch': epoch,\r\n",
        "                'model_state_dict': model.state_dict(),\r\n",
        "                'optimizer_state_dict': optimizer.state_dict(),\r\n",
        "                'acc_list': acc_list,\r\n",
        "                }\r\n",
        "        torch.save(state, 'checkpoints/%s_%s_%s/epoch_%d.pth' % (data_,model_,name_, epoch))\r\n",
        "        print('Successfully save checkpoint at epoch %d' % epoch)\r\n"
      ],
      "execution_count": 6,
      "outputs": []
    },
    {
      "cell_type": "code",
      "metadata": {
        "id": "M-r46q1JAPVH"
      },
      "source": [
        "adj_lr = {'steps' : [int(temp) for temp in [50, 80, 120, 150]], 'decay_rates' : [float(temp) for temp in [0.1, 0.1, 0.2, 0.2]]}\r\n",
        "\r\n",
        "seg_num = [4, 2, 2, 4, 4, 3, 3, 2, 4, 2, 6, 2, 3, 3, 3, 3]\r\n",
        "index_start = [0, 4, 6, 8, 12, 16, 19, 22, 24, 28, 30, 36, 38, 41, 44, 47]\r\n",
        "seg_num_all = 50\r\n",
        "seg_start_index = 0\r\n",
        "\r\n",
        "train_tfs = compose([rotate_y(), \r\n",
        "                             rand_scale(), \r\n",
        "                             rand_translate(), \r\n",
        "                             jitter(), \r\n",
        "                             normalize()\r\n",
        "                            ])\r\n",
        "test_tfs = normalize()\r\n",
        "\r\n",
        "batch_size = 16\r\n",
        "\r\n",
        "train_loader = DataLoader(ShapeNetPart(partition='trainval', num_points=2048, class_choice=None, transforms=train_tfs), batch_size=batch_size, shuffle=True)\r\n",
        "test_loader = DataLoader(ShapeNetPart(partition='test', num_points=2048, class_choice=None, transforms=test_tfs), batch_size=batch_size, shuffle=False)"
      ],
      "execution_count": 7,
      "outputs": []
    },
    {
      "cell_type": "code",
      "metadata": {
        "id": "H5xdSI-WSMeI"
      },
      "source": [
        "def test(model, test_loader):\r\n",
        "    model.eval()\r\n",
        "    test_true_cls = []\r\n",
        "    test_pred_cls = []\r\n",
        "    test_true_seg = []\r\n",
        "    test_pred_seg = []\r\n",
        "    test_label_seg = []\r\n",
        "    correct = 0\r\n",
        "    total = 0\r\n",
        "    for j, data in enumerate(test_loader, 0):\r\n",
        "\r\n",
        "        points, label, seg = data\r\n",
        "        points, seg  = points.to(device), seg.to(device)          \r\n",
        "        points = points.transpose(2, 1) # to be shape batch_size*3*N     \r\n",
        "        seg_pred = model(points)\r\n",
        "        seg_pred = seg_pred.permute(0, 2, 1)          \r\n",
        "        loss=F.cross_entropy(seg_pred.reshape(-1, seg_num_all), seg.view(-1))\r\n",
        "            \r\n",
        "        pred_choice = seg_pred.data.max(2)[1]\r\n",
        "\r\n",
        "        correct += pred_choice.eq(seg.data).cpu().sum()\r\n",
        "        total += pred_choice.size(0)* pred_choice.size(1)\r\n",
        "\r\n",
        "        seg_np = seg.cpu().numpy()\r\n",
        "        pred_np = pred_choice.detach().cpu().numpy()\r\n",
        "        label = label.numpy() # added \r\n",
        "\r\n",
        "        test_true_cls.append(seg_np.reshape(-1))\r\n",
        "        test_pred_cls.append(pred_np.reshape(-1))\r\n",
        "\r\n",
        "        test_true_seg.append(seg_np)\r\n",
        "        test_pred_seg.append(pred_np)\r\n",
        "\r\n",
        "        test_label_seg.append(label.reshape(-1, 1))\r\n",
        "        pbar.set_postfix({'step':i+1,'Test Loss:' : total_loss/(i+1),'Test Acc':100.*correct.item()/total})\r\n",
        "       \r\n",
        "\r\n",
        "    test_true_cls = np.concatenate(test_true_cls)\r\n",
        "    test_pred_cls = np.concatenate(test_pred_cls)\r\n",
        "\r\n",
        "    test_acc = metrics.accuracy_score(test_true_cls, test_pred_cls)\r\n",
        "    avg_per_class_acc = metrics.balanced_accuracy_score(test_true_cls, test_pred_cls)\r\n",
        "\r\n",
        "    test_true_seg = np.concatenate(test_true_seg, axis=0)\r\n",
        "    test_pred_seg = np.concatenate(test_pred_seg, axis=0)\r\n",
        "    test_label_seg = np.concatenate(test_label_seg)\r\n",
        "\r\n",
        "    test_ious = calculate_shape_IoU(test_pred_seg, test_true_seg, test_label_seg, None)\r\n",
        "    outstr = 'Test %d, loss: %.6f, test acc: %.6f, test avg acc: %.6f, test iou: %.6f' % (epoch,\r\n",
        "                                                                                              total_loss/(j+1),\r\n",
        "                                                                                              100*(correct/total),\r\n",
        "                                                                                              avg_per_class_acc,\r\n",
        "                                                                                              np.mean(test_ious))\r\n",
        "        \r\n",
        "    print(outstr)\r\n",
        "    return total_loss/(j+1), 100.*correct.item()/total"
      ],
      "execution_count": 38,
      "outputs": []
    },
    {
      "cell_type": "code",
      "metadata": {
        "id": "vHQJy4RVwERU"
      },
      "source": [
        "if not os.path.isdir('logs_train'):\r\n",
        "        os.mkdir('logs_train')\r\n",
        "logname = ('logs_train/%s_%s_%s.csv' % (data_,model_,name_))    \r\n",
        "    \r\n",
        "if os.path.exists(logname):\r\n",
        "        with open(logname, 'a') as logfile:\r\n",
        "            log_row(logname, [''])\r\n",
        "            log_row(logname, [''])\r\n",
        "\r\n",
        "acc_list=[0]"
      ],
      "execution_count": 35,
      "outputs": []
    },
    {
      "cell_type": "code",
      "metadata": {
        "id": "FLr17yR1OSU7",
        "colab": {
          "base_uri": "https://localhost:8080/",
          "height": 463,
          "referenced_widgets": [
            "3e1a6d9760714b12bf8c4ce6ddc7c4cb",
            "56290c8d4ce74b0ea161f551873ba920",
            "7af6863fa8744f62a4988832eabcc13f",
            "c0bd99796a3340b5897e6647b331568c",
            "edc51f7c56cb4d1db7f8cd87164e4e64",
            "2a89641d100c453aadb94988ebdb1ffc",
            "4a6986a3d1414127aebc3c91a4a0cb31",
            "9d1edc13bad9428dbffdc8c5d51aa614"
          ]
        },
        "outputId": "53ea8ae1-e8f3-4772-c422-2376ba2e28ea"
      },
      "source": [
        "from tqdm.notebook import tqdm\r\n",
        "import sklearn.metrics as metrics\r\n",
        "\r\n",
        "for epoch in range(200):\r\n",
        "        model.train()\r\n",
        "        print('\\nEpoch: %d' % epoch)\r\n",
        "        optimizer.param_groups = adjust_lr_steep(0.001, optimizer.param_groups, epoch, adj_lr)\r\n",
        "        train_true_cls = []\r\n",
        "        train_pred_cls = []\r\n",
        "        train_true_seg = []\r\n",
        "        train_pred_seg = []\r\n",
        "        train_label_seg = []\r\n",
        "        correct = 0\r\n",
        "        total = 0\r\n",
        "        total_loss=0\r\n",
        "        pbar=tqdm(train_loader)\r\n",
        "        for i, data in  enumerate(pbar): #enumerate(train_loader, 0):\r\n",
        "            points, label, seg = data\r\n",
        "            points, seg  = points.to(device), seg.to(device)\r\n",
        "            \r\n",
        "            points = points.transpose(2, 1) # to be shape batch_size*3*N\r\n",
        "\r\n",
        "            optimizer.zero_grad()\r\n",
        "\r\n",
        "\r\n",
        "            seg_pred = model(points)\r\n",
        "            seg_pred = seg_pred.permute(0, 2, 1)\r\n",
        "            \r\n",
        "            loss =  F.cross_entropy(seg_pred.reshape(-1, seg_num_all), seg.view(-1))\r\n",
        "           #print(loss.item())\r\n",
        "            \r\n",
        "            loss.backward()\r\n",
        "            optimizer.step()\r\n",
        "            pred_choice = seg_pred.data.max(2)[1]\r\n",
        "            total_loss+=loss.item()\r\n",
        "            \r\n",
        "            correct += pred_choice.eq(seg.data).cpu().sum()\r\n",
        "            total += pred_choice.size(0)* pred_choice.size(1)\r\n",
        "\r\n",
        "            seg_np = seg.cpu().numpy()                \r\n",
        "            pred_np = pred_choice.detach().cpu().numpy()\r\n",
        "            label = label.numpy() # added \r\n",
        "            temp_label = label.reshape(-1, 1)\r\n",
        "\r\n",
        "            train_true_cls.append(seg_np.reshape(-1))       \r\n",
        "            train_pred_cls.append(pred_np.reshape(-1))      \r\n",
        "\r\n",
        "            train_true_seg.append(seg_np)\r\n",
        "            train_pred_seg.append(pred_np)\r\n",
        "\r\n",
        "            train_label_seg.append(temp_label)\r\n",
        "           \r\n",
        "        \r\n",
        " \r\n",
        "            pbar.set_postfix({'step':i+1,'Train Loss:' : total_loss/(i+1),'Train Acc':100.*correct.item()/total})\r\n",
        "            \r\n",
        "\r\n",
        "        train_loss, train_acc = total_loss/(i+1), 100.*correct.item()/total \r\n",
        "\r\n",
        "        train_true_cls = np.concatenate(train_true_cls)\r\n",
        "        train_pred_cls = np.concatenate(train_pred_cls)\r\n",
        "\r\n",
        "        train_acc = metrics.accuracy_score(train_true_cls, train_pred_cls)\r\n",
        "        avg_per_class_acc = metrics.balanced_accuracy_score(train_true_cls.data, train_pred_cls.data)\r\n",
        "\r\n",
        "        train_true_seg = np.concatenate(train_true_seg, axis=0)\r\n",
        "        train_pred_seg = np.concatenate(train_pred_seg, axis=0)\r\n",
        "        train_label_seg = np.concatenate(train_label_seg, axis=0)\r\n",
        "\r\n",
        "        train_ious = calculate_shape_IoU(train_pred_seg, train_true_seg, train_label_seg, None)\r\n",
        "        \r\n",
        "        outstr = 'Train %d, loss: %.6f, train acc: %.6f, train avg acc: %.6f, train iou: %.6f' % (epoch, train_loss/(i+1), train_acc, avg_per_class_acc, np.mean(train_ious))\r\n",
        "        \r\n",
        "        ### Test in batch \r\n",
        "        test_loss, test_acc = test(model, test_loader)        \r\n",
        "        acc_list.append(test_acc)  \r\n",
        "\r\n",
        "        ### Keep tracing\r\n",
        "        log_row(logname, [epoch, train_loss, train_acc, test_loss, test_acc, \r\n",
        "                optimizer.param_groups[0]['lr'], max(acc_list), np.argmax(acc_list)-1])\r\n",
        "        save_ckpt( epoch, model, optimizer, acc_list)\r\n",
        "       \r\n",
        "        \r\n",
        "            "
      ],
      "execution_count": 37,
      "outputs": [
        {
          "output_type": "stream",
          "text": [
            "\n",
            "Epoch: 0\n"
          ],
          "name": "stdout"
        },
        {
          "output_type": "display_data",
          "data": {
            "application/vnd.jupyter.widget-view+json": {
              "model_id": "3e1a6d9760714b12bf8c4ce6ddc7c4cb",
              "version_minor": 0,
              "version_major": 2
            },
            "text/plain": [
              "HBox(children=(FloatProgress(value=0.0, max=876.0), HTML(value='')))"
            ]
          },
          "metadata": {
            "tags": []
          }
        },
        {
          "output_type": "error",
          "ename": "KeyboardInterrupt",
          "evalue": "ignored",
          "traceback": [
            "\u001b[0;31m---------------------------------------------------------------------------\u001b[0m",
            "\u001b[0;31mKeyboardInterrupt\u001b[0m                         Traceback (most recent call last)",
            "\u001b[0;32m<ipython-input-37-bb8f548bcc94>\u001b[0m in \u001b[0;36m<module>\u001b[0;34m()\u001b[0m\n\u001b[1;32m     24\u001b[0m \u001b[0;34m\u001b[0m\u001b[0m\n\u001b[1;32m     25\u001b[0m \u001b[0;34m\u001b[0m\u001b[0m\n\u001b[0;32m---> 26\u001b[0;31m             \u001b[0mseg_pred\u001b[0m \u001b[0;34m=\u001b[0m \u001b[0mmodel\u001b[0m\u001b[0;34m(\u001b[0m\u001b[0mpoints\u001b[0m\u001b[0;34m)\u001b[0m\u001b[0;34m\u001b[0m\u001b[0;34m\u001b[0m\u001b[0m\n\u001b[0m\u001b[1;32m     27\u001b[0m             \u001b[0mseg_pred\u001b[0m \u001b[0;34m=\u001b[0m \u001b[0mseg_pred\u001b[0m\u001b[0;34m.\u001b[0m\u001b[0mpermute\u001b[0m\u001b[0;34m(\u001b[0m\u001b[0;36m0\u001b[0m\u001b[0;34m,\u001b[0m \u001b[0;36m2\u001b[0m\u001b[0;34m,\u001b[0m \u001b[0;36m1\u001b[0m\u001b[0;34m)\u001b[0m\u001b[0;34m\u001b[0m\u001b[0;34m\u001b[0m\u001b[0m\n\u001b[1;32m     28\u001b[0m \u001b[0;34m\u001b[0m\u001b[0m\n",
            "\u001b[0;32m/usr/local/lib/python3.6/dist-packages/torch/nn/modules/module.py\u001b[0m in \u001b[0;36m_call_impl\u001b[0;34m(self, *input, **kwargs)\u001b[0m\n\u001b[1;32m    725\u001b[0m             \u001b[0mresult\u001b[0m \u001b[0;34m=\u001b[0m \u001b[0mself\u001b[0m\u001b[0;34m.\u001b[0m\u001b[0m_slow_forward\u001b[0m\u001b[0;34m(\u001b[0m\u001b[0;34m*\u001b[0m\u001b[0minput\u001b[0m\u001b[0;34m,\u001b[0m \u001b[0;34m**\u001b[0m\u001b[0mkwargs\u001b[0m\u001b[0;34m)\u001b[0m\u001b[0;34m\u001b[0m\u001b[0;34m\u001b[0m\u001b[0m\n\u001b[1;32m    726\u001b[0m         \u001b[0;32melse\u001b[0m\u001b[0;34m:\u001b[0m\u001b[0;34m\u001b[0m\u001b[0;34m\u001b[0m\u001b[0m\n\u001b[0;32m--> 727\u001b[0;31m             \u001b[0mresult\u001b[0m \u001b[0;34m=\u001b[0m \u001b[0mself\u001b[0m\u001b[0;34m.\u001b[0m\u001b[0mforward\u001b[0m\u001b[0;34m(\u001b[0m\u001b[0;34m*\u001b[0m\u001b[0minput\u001b[0m\u001b[0;34m,\u001b[0m \u001b[0;34m**\u001b[0m\u001b[0mkwargs\u001b[0m\u001b[0;34m)\u001b[0m\u001b[0;34m\u001b[0m\u001b[0;34m\u001b[0m\u001b[0m\n\u001b[0m\u001b[1;32m    728\u001b[0m         for hook in itertools.chain(\n\u001b[1;32m    729\u001b[0m                 \u001b[0m_global_forward_hooks\u001b[0m\u001b[0;34m.\u001b[0m\u001b[0mvalues\u001b[0m\u001b[0;34m(\u001b[0m\u001b[0;34m)\u001b[0m\u001b[0;34m,\u001b[0m\u001b[0;34m\u001b[0m\u001b[0;34m\u001b[0m\u001b[0m\n",
            "\u001b[0;32m/usr/local/lib/python3.6/dist-packages/torch/nn/parallel/data_parallel.py\u001b[0m in \u001b[0;36mforward\u001b[0;34m(self, *inputs, **kwargs)\u001b[0m\n\u001b[1;32m    157\u001b[0m         \u001b[0minputs\u001b[0m\u001b[0;34m,\u001b[0m \u001b[0mkwargs\u001b[0m \u001b[0;34m=\u001b[0m \u001b[0mself\u001b[0m\u001b[0;34m.\u001b[0m\u001b[0mscatter\u001b[0m\u001b[0;34m(\u001b[0m\u001b[0minputs\u001b[0m\u001b[0;34m,\u001b[0m \u001b[0mkwargs\u001b[0m\u001b[0;34m,\u001b[0m \u001b[0mself\u001b[0m\u001b[0;34m.\u001b[0m\u001b[0mdevice_ids\u001b[0m\u001b[0;34m)\u001b[0m\u001b[0;34m\u001b[0m\u001b[0;34m\u001b[0m\u001b[0m\n\u001b[1;32m    158\u001b[0m         \u001b[0;32mif\u001b[0m \u001b[0mlen\u001b[0m\u001b[0;34m(\u001b[0m\u001b[0mself\u001b[0m\u001b[0;34m.\u001b[0m\u001b[0mdevice_ids\u001b[0m\u001b[0;34m)\u001b[0m \u001b[0;34m==\u001b[0m \u001b[0;36m1\u001b[0m\u001b[0;34m:\u001b[0m\u001b[0;34m\u001b[0m\u001b[0;34m\u001b[0m\u001b[0m\n\u001b[0;32m--> 159\u001b[0;31m             \u001b[0;32mreturn\u001b[0m \u001b[0mself\u001b[0m\u001b[0;34m.\u001b[0m\u001b[0mmodule\u001b[0m\u001b[0;34m(\u001b[0m\u001b[0;34m*\u001b[0m\u001b[0minputs\u001b[0m\u001b[0;34m[\u001b[0m\u001b[0;36m0\u001b[0m\u001b[0;34m]\u001b[0m\u001b[0;34m,\u001b[0m \u001b[0;34m**\u001b[0m\u001b[0mkwargs\u001b[0m\u001b[0;34m[\u001b[0m\u001b[0;36m0\u001b[0m\u001b[0;34m]\u001b[0m\u001b[0;34m)\u001b[0m\u001b[0;34m\u001b[0m\u001b[0;34m\u001b[0m\u001b[0m\n\u001b[0m\u001b[1;32m    160\u001b[0m         \u001b[0mreplicas\u001b[0m \u001b[0;34m=\u001b[0m \u001b[0mself\u001b[0m\u001b[0;34m.\u001b[0m\u001b[0mreplicate\u001b[0m\u001b[0;34m(\u001b[0m\u001b[0mself\u001b[0m\u001b[0;34m.\u001b[0m\u001b[0mmodule\u001b[0m\u001b[0;34m,\u001b[0m \u001b[0mself\u001b[0m\u001b[0;34m.\u001b[0m\u001b[0mdevice_ids\u001b[0m\u001b[0;34m[\u001b[0m\u001b[0;34m:\u001b[0m\u001b[0mlen\u001b[0m\u001b[0;34m(\u001b[0m\u001b[0minputs\u001b[0m\u001b[0;34m)\u001b[0m\u001b[0;34m]\u001b[0m\u001b[0;34m)\u001b[0m\u001b[0;34m\u001b[0m\u001b[0;34m\u001b[0m\u001b[0m\n\u001b[1;32m    161\u001b[0m         \u001b[0moutputs\u001b[0m \u001b[0;34m=\u001b[0m \u001b[0mself\u001b[0m\u001b[0;34m.\u001b[0m\u001b[0mparallel_apply\u001b[0m\u001b[0;34m(\u001b[0m\u001b[0mreplicas\u001b[0m\u001b[0;34m,\u001b[0m \u001b[0minputs\u001b[0m\u001b[0;34m,\u001b[0m \u001b[0mkwargs\u001b[0m\u001b[0;34m)\u001b[0m\u001b[0;34m\u001b[0m\u001b[0;34m\u001b[0m\u001b[0m\n",
            "\u001b[0;32m/usr/local/lib/python3.6/dist-packages/torch/nn/modules/module.py\u001b[0m in \u001b[0;36m_call_impl\u001b[0;34m(self, *input, **kwargs)\u001b[0m\n\u001b[1;32m    725\u001b[0m             \u001b[0mresult\u001b[0m \u001b[0;34m=\u001b[0m \u001b[0mself\u001b[0m\u001b[0;34m.\u001b[0m\u001b[0m_slow_forward\u001b[0m\u001b[0;34m(\u001b[0m\u001b[0;34m*\u001b[0m\u001b[0minput\u001b[0m\u001b[0;34m,\u001b[0m \u001b[0;34m**\u001b[0m\u001b[0mkwargs\u001b[0m\u001b[0;34m)\u001b[0m\u001b[0;34m\u001b[0m\u001b[0;34m\u001b[0m\u001b[0m\n\u001b[1;32m    726\u001b[0m         \u001b[0;32melse\u001b[0m\u001b[0;34m:\u001b[0m\u001b[0;34m\u001b[0m\u001b[0;34m\u001b[0m\u001b[0m\n\u001b[0;32m--> 727\u001b[0;31m             \u001b[0mresult\u001b[0m \u001b[0;34m=\u001b[0m \u001b[0mself\u001b[0m\u001b[0;34m.\u001b[0m\u001b[0mforward\u001b[0m\u001b[0;34m(\u001b[0m\u001b[0;34m*\u001b[0m\u001b[0minput\u001b[0m\u001b[0;34m,\u001b[0m \u001b[0;34m**\u001b[0m\u001b[0mkwargs\u001b[0m\u001b[0;34m)\u001b[0m\u001b[0;34m\u001b[0m\u001b[0;34m\u001b[0m\u001b[0m\n\u001b[0m\u001b[1;32m    728\u001b[0m         for hook in itertools.chain(\n\u001b[1;32m    729\u001b[0m                 \u001b[0m_global_forward_hooks\u001b[0m\u001b[0;34m.\u001b[0m\u001b[0mvalues\u001b[0m\u001b[0;34m(\u001b[0m\u001b[0;34m)\u001b[0m\u001b[0;34m,\u001b[0m\u001b[0;34m\u001b[0m\u001b[0;34m\u001b[0m\u001b[0m\n",
            "\u001b[0;32m/content/pointcnn.py\u001b[0m in \u001b[0;36mforward\u001b[0;34m(self, x, normal)\u001b[0m\n\u001b[1;32m     81\u001b[0m         \u001b[0mx_3\u001b[0m \u001b[0;34m=\u001b[0m \u001b[0mself\u001b[0m\u001b[0;34m.\u001b[0m\u001b[0mdecoder_0\u001b[0m\u001b[0;34m(\u001b[0m\u001b[0mx_3\u001b[0m\u001b[0;34m,\u001b[0m \u001b[0mx_3\u001b[0m\u001b[0;34m)\u001b[0m\u001b[0;34m\u001b[0m\u001b[0;34m\u001b[0m\u001b[0m\n\u001b[1;32m     82\u001b[0m         \u001b[0mx_2\u001b[0m \u001b[0;34m=\u001b[0m \u001b[0mself\u001b[0m\u001b[0;34m.\u001b[0m\u001b[0mdecoder_1\u001b[0m\u001b[0;34m(\u001b[0m\u001b[0mx_3\u001b[0m\u001b[0;34m,\u001b[0m \u001b[0mx_2\u001b[0m\u001b[0;34m)\u001b[0m\u001b[0;34m\u001b[0m\u001b[0;34m\u001b[0m\u001b[0m\n\u001b[0;32m---> 83\u001b[0;31m         \u001b[0mx_1\u001b[0m \u001b[0;34m=\u001b[0m \u001b[0mself\u001b[0m\u001b[0;34m.\u001b[0m\u001b[0mdecoder_2\u001b[0m\u001b[0;34m(\u001b[0m\u001b[0mx_2\u001b[0m\u001b[0;34m,\u001b[0m \u001b[0mx_1\u001b[0m\u001b[0;34m)\u001b[0m\u001b[0;34m\u001b[0m\u001b[0;34m\u001b[0m\u001b[0m\n\u001b[0m\u001b[1;32m     84\u001b[0m         \u001b[0mx_0\u001b[0m \u001b[0;34m=\u001b[0m \u001b[0mself\u001b[0m\u001b[0;34m.\u001b[0m\u001b[0mdecoder_3\u001b[0m\u001b[0;34m(\u001b[0m\u001b[0mx_1\u001b[0m\u001b[0;34m,\u001b[0m \u001b[0mx_0\u001b[0m\u001b[0;34m)\u001b[0m\u001b[0;34m\u001b[0m\u001b[0;34m\u001b[0m\u001b[0m\n\u001b[1;32m     85\u001b[0m \u001b[0;34m\u001b[0m\u001b[0m\n",
            "\u001b[0;32m/usr/local/lib/python3.6/dist-packages/torch/nn/modules/module.py\u001b[0m in \u001b[0;36m_call_impl\u001b[0;34m(self, *input, **kwargs)\u001b[0m\n\u001b[1;32m    725\u001b[0m             \u001b[0mresult\u001b[0m \u001b[0;34m=\u001b[0m \u001b[0mself\u001b[0m\u001b[0;34m.\u001b[0m\u001b[0m_slow_forward\u001b[0m\u001b[0;34m(\u001b[0m\u001b[0;34m*\u001b[0m\u001b[0minput\u001b[0m\u001b[0;34m,\u001b[0m \u001b[0;34m**\u001b[0m\u001b[0mkwargs\u001b[0m\u001b[0;34m)\u001b[0m\u001b[0;34m\u001b[0m\u001b[0;34m\u001b[0m\u001b[0m\n\u001b[1;32m    726\u001b[0m         \u001b[0;32melse\u001b[0m\u001b[0;34m:\u001b[0m\u001b[0;34m\u001b[0m\u001b[0;34m\u001b[0m\u001b[0m\n\u001b[0;32m--> 727\u001b[0;31m             \u001b[0mresult\u001b[0m \u001b[0;34m=\u001b[0m \u001b[0mself\u001b[0m\u001b[0;34m.\u001b[0m\u001b[0mforward\u001b[0m\u001b[0;34m(\u001b[0m\u001b[0;34m*\u001b[0m\u001b[0minput\u001b[0m\u001b[0;34m,\u001b[0m \u001b[0;34m**\u001b[0m\u001b[0mkwargs\u001b[0m\u001b[0;34m)\u001b[0m\u001b[0;34m\u001b[0m\u001b[0;34m\u001b[0m\u001b[0m\n\u001b[0m\u001b[1;32m    728\u001b[0m         for hook in itertools.chain(\n\u001b[1;32m    729\u001b[0m                 \u001b[0m_global_forward_hooks\u001b[0m\u001b[0;34m.\u001b[0m\u001b[0mvalues\u001b[0m\u001b[0;34m(\u001b[0m\u001b[0;34m)\u001b[0m\u001b[0;34m,\u001b[0m\u001b[0;34m\u001b[0m\u001b[0;34m\u001b[0m\u001b[0m\n",
            "\u001b[0;32m/content/ptcnn_utils/model.py\u001b[0m in \u001b[0;36mforward\u001b[0;34m(self, x_l, x_h)\u001b[0m\n\u001b[1;32m    282\u001b[0m         \u001b[0mpts_l\u001b[0m\u001b[0;34m,\u001b[0m \u001b[0mfts_l\u001b[0m \u001b[0;34m=\u001b[0m \u001b[0mx_l\u001b[0m\u001b[0;34m\u001b[0m\u001b[0;34m\u001b[0m\u001b[0m\n\u001b[1;32m    283\u001b[0m         \u001b[0mpts_h\u001b[0m\u001b[0;34m,\u001b[0m \u001b[0mfts_h\u001b[0m \u001b[0;34m=\u001b[0m \u001b[0mx_h\u001b[0m\u001b[0;34m\u001b[0m\u001b[0;34m\u001b[0m\u001b[0m\n\u001b[0;32m--> 284\u001b[0;31m         \u001b[0mrep_pts_fts\u001b[0m \u001b[0;34m=\u001b[0m \u001b[0mself\u001b[0m\u001b[0;34m.\u001b[0m\u001b[0mpointcnn\u001b[0m\u001b[0;34m(\u001b[0m\u001b[0;34m(\u001b[0m\u001b[0mpts_h\u001b[0m\u001b[0;34m,\u001b[0m \u001b[0mpts_l\u001b[0m\u001b[0;34m,\u001b[0m \u001b[0mfts_l\u001b[0m\u001b[0;34m)\u001b[0m\u001b[0;34m)\u001b[0m\u001b[0;34m\u001b[0m\u001b[0;34m\u001b[0m\u001b[0m\n\u001b[0m\u001b[1;32m    285\u001b[0m         \u001b[0mconcat_feature\u001b[0m \u001b[0;34m=\u001b[0m \u001b[0mtorch\u001b[0m\u001b[0;34m.\u001b[0m\u001b[0mcat\u001b[0m \u001b[0;34m(\u001b[0m\u001b[0;34m(\u001b[0m\u001b[0mrep_pts_fts\u001b[0m\u001b[0;34m,\u001b[0m \u001b[0mfts_h\u001b[0m\u001b[0;34m)\u001b[0m\u001b[0;34m,\u001b[0m \u001b[0mdim\u001b[0m\u001b[0;34m=\u001b[0m\u001b[0;36m2\u001b[0m\u001b[0;34m)\u001b[0m\u001b[0;34m\u001b[0m\u001b[0;34m\u001b[0m\u001b[0m\n\u001b[1;32m    286\u001b[0m         \u001b[0mrep_pts_fts\u001b[0m \u001b[0;34m=\u001b[0m \u001b[0mself\u001b[0m\u001b[0;34m.\u001b[0m\u001b[0mconv_fuse\u001b[0m\u001b[0;34m(\u001b[0m\u001b[0mconcat_feature\u001b[0m\u001b[0;34m)\u001b[0m\u001b[0;34m\u001b[0m\u001b[0;34m\u001b[0m\u001b[0m\n",
            "\u001b[0;32m/usr/local/lib/python3.6/dist-packages/torch/nn/modules/module.py\u001b[0m in \u001b[0;36m_call_impl\u001b[0;34m(self, *input, **kwargs)\u001b[0m\n\u001b[1;32m    725\u001b[0m             \u001b[0mresult\u001b[0m \u001b[0;34m=\u001b[0m \u001b[0mself\u001b[0m\u001b[0;34m.\u001b[0m\u001b[0m_slow_forward\u001b[0m\u001b[0;34m(\u001b[0m\u001b[0;34m*\u001b[0m\u001b[0minput\u001b[0m\u001b[0;34m,\u001b[0m \u001b[0;34m**\u001b[0m\u001b[0mkwargs\u001b[0m\u001b[0;34m)\u001b[0m\u001b[0;34m\u001b[0m\u001b[0;34m\u001b[0m\u001b[0m\n\u001b[1;32m    726\u001b[0m         \u001b[0;32melse\u001b[0m\u001b[0;34m:\u001b[0m\u001b[0;34m\u001b[0m\u001b[0;34m\u001b[0m\u001b[0m\n\u001b[0;32m--> 727\u001b[0;31m             \u001b[0mresult\u001b[0m \u001b[0;34m=\u001b[0m \u001b[0mself\u001b[0m\u001b[0;34m.\u001b[0m\u001b[0mforward\u001b[0m\u001b[0;34m(\u001b[0m\u001b[0;34m*\u001b[0m\u001b[0minput\u001b[0m\u001b[0;34m,\u001b[0m \u001b[0;34m**\u001b[0m\u001b[0mkwargs\u001b[0m\u001b[0;34m)\u001b[0m\u001b[0;34m\u001b[0m\u001b[0;34m\u001b[0m\u001b[0m\n\u001b[0m\u001b[1;32m    728\u001b[0m         for hook in itertools.chain(\n\u001b[1;32m    729\u001b[0m                 \u001b[0m_global_forward_hooks\u001b[0m\u001b[0;34m.\u001b[0m\u001b[0mvalues\u001b[0m\u001b[0;34m(\u001b[0m\u001b[0;34m)\u001b[0m\u001b[0;34m,\u001b[0m\u001b[0;34m\u001b[0m\u001b[0;34m\u001b[0m\u001b[0m\n",
            "\u001b[0;32m/content/ptcnn_utils/model.py\u001b[0m in \u001b[0;36mforward\u001b[0;34m(self, x)\u001b[0m\n\u001b[1;32m    201\u001b[0m \u001b[0;34m\u001b[0m\u001b[0m\n\u001b[1;32m    202\u001b[0m         \u001b[0;31m# This step takes ~97% of the time. Prime target for optimization: KNN on GPU.\u001b[0m\u001b[0;34m\u001b[0m\u001b[0;34m\u001b[0m\u001b[0;34m\u001b[0m\u001b[0m\n\u001b[0;32m--> 203\u001b[0;31m         \u001b[0mpts_idx\u001b[0m \u001b[0;34m=\u001b[0m \u001b[0mself\u001b[0m\u001b[0;34m.\u001b[0m\u001b[0mr_indices_func\u001b[0m\u001b[0;34m(\u001b[0m\u001b[0mrep_pts\u001b[0m\u001b[0;34m.\u001b[0m\u001b[0mcpu\u001b[0m\u001b[0;34m(\u001b[0m\u001b[0;34m)\u001b[0m\u001b[0;34m,\u001b[0m \u001b[0mpts\u001b[0m\u001b[0;34m.\u001b[0m\u001b[0mcpu\u001b[0m\u001b[0;34m(\u001b[0m\u001b[0;34m)\u001b[0m\u001b[0;34m)\u001b[0m\u001b[0;34m.\u001b[0m\u001b[0mcuda\u001b[0m\u001b[0;34m(\u001b[0m\u001b[0;34m)\u001b[0m\u001b[0;34m\u001b[0m\u001b[0;34m\u001b[0m\u001b[0m\n\u001b[0m\u001b[1;32m    204\u001b[0m         \u001b[0;31m# -------------------------------------------------------------------------- #\u001b[0m\u001b[0;34m\u001b[0m\u001b[0;34m\u001b[0m\u001b[0;34m\u001b[0m\u001b[0m\n\u001b[1;32m    205\u001b[0m \u001b[0;34m\u001b[0m\u001b[0m\n",
            "\u001b[0;32m/content/ptcnn_utils/model.py\u001b[0m in \u001b[0;36m<lambda>\u001b[0;34m(rep_pts, pts)\u001b[0m\n\u001b[1;32m    162\u001b[0m             \u001b[0mdepth_multiplier\u001b[0m \u001b[0;34m=\u001b[0m \u001b[0mmin\u001b[0m\u001b[0;34m(\u001b[0m\u001b[0mint\u001b[0m\u001b[0;34m(\u001b[0m\u001b[0mnp\u001b[0m\u001b[0;34m.\u001b[0m\u001b[0mceil\u001b[0m\u001b[0;34m(\u001b[0m\u001b[0mC_out\u001b[0m \u001b[0;34m/\u001b[0m \u001b[0mC_in\u001b[0m\u001b[0;34m)\u001b[0m\u001b[0;34m)\u001b[0m\u001b[0;34m,\u001b[0m \u001b[0;36m4\u001b[0m\u001b[0;34m)\u001b[0m\u001b[0;34m\u001b[0m\u001b[0;34m\u001b[0m\u001b[0m\n\u001b[1;32m    163\u001b[0m \u001b[0;34m\u001b[0m\u001b[0m\n\u001b[0;32m--> 164\u001b[0;31m         \u001b[0mself\u001b[0m\u001b[0;34m.\u001b[0m\u001b[0mr_indices_func\u001b[0m \u001b[0;34m=\u001b[0m \u001b[0;32mlambda\u001b[0m \u001b[0mrep_pts\u001b[0m\u001b[0;34m,\u001b[0m \u001b[0mpts\u001b[0m\u001b[0;34m:\u001b[0m \u001b[0mr_indices_func\u001b[0m\u001b[0;34m(\u001b[0m\u001b[0mrep_pts\u001b[0m\u001b[0;34m,\u001b[0m \u001b[0mpts\u001b[0m\u001b[0;34m,\u001b[0m \u001b[0mK\u001b[0m\u001b[0;34m,\u001b[0m \u001b[0mD\u001b[0m\u001b[0;34m)\u001b[0m\u001b[0;34m\u001b[0m\u001b[0;34m\u001b[0m\u001b[0m\n\u001b[0m\u001b[1;32m    165\u001b[0m         \u001b[0mself\u001b[0m\u001b[0;34m.\u001b[0m\u001b[0mdense\u001b[0m \u001b[0;34m=\u001b[0m \u001b[0mDense\u001b[0m\u001b[0;34m(\u001b[0m\u001b[0mC_in\u001b[0m\u001b[0;34m,\u001b[0m \u001b[0mC_out\u001b[0m \u001b[0;34m//\u001b[0m \u001b[0;36m2\u001b[0m\u001b[0;34m)\u001b[0m \u001b[0;32mif\u001b[0m \u001b[0mC_in\u001b[0m \u001b[0;34m!=\u001b[0m \u001b[0;36m0\u001b[0m \u001b[0;32melse\u001b[0m \u001b[0;32mNone\u001b[0m\u001b[0;34m\u001b[0m\u001b[0;34m\u001b[0m\u001b[0m\n\u001b[1;32m    166\u001b[0m         \u001b[0mself\u001b[0m\u001b[0;34m.\u001b[0m\u001b[0mx_conv\u001b[0m \u001b[0;34m=\u001b[0m \u001b[0mXConv\u001b[0m\u001b[0;34m(\u001b[0m\u001b[0mC_out\u001b[0m \u001b[0;34m//\u001b[0m \u001b[0;36m2\u001b[0m \u001b[0;32mif\u001b[0m \u001b[0mC_in\u001b[0m \u001b[0;34m!=\u001b[0m \u001b[0;36m0\u001b[0m \u001b[0;32melse\u001b[0m \u001b[0mC_in\u001b[0m\u001b[0;34m,\u001b[0m \u001b[0mC_out\u001b[0m\u001b[0;34m,\u001b[0m \u001b[0mdims\u001b[0m\u001b[0;34m,\u001b[0m \u001b[0mK\u001b[0m\u001b[0;34m,\u001b[0m \u001b[0mP\u001b[0m\u001b[0;34m,\u001b[0m \u001b[0mC_mid\u001b[0m\u001b[0;34m,\u001b[0m \u001b[0mdepth_multiplier\u001b[0m\u001b[0;34m)\u001b[0m\u001b[0;34m\u001b[0m\u001b[0;34m\u001b[0m\u001b[0m\n",
            "\u001b[0;32m/content/ptcnn_utils/util_funcs.py\u001b[0m in \u001b[0;36mknn_indices_func_gpu\u001b[0;34m(rep_pts, pts, k, d)\u001b[0m\n\u001b[1;32m     59\u001b[0m         \u001b[0mmref\u001b[0m \u001b[0;34m=\u001b[0m \u001b[0mref\u001b[0m\u001b[0;34m.\u001b[0m\u001b[0mexpand\u001b[0m\u001b[0;34m(\u001b[0m\u001b[0mm\u001b[0m\u001b[0;34m,\u001b[0m \u001b[0mn\u001b[0m\u001b[0;34m,\u001b[0m \u001b[0md\u001b[0m\u001b[0;34m)\u001b[0m\u001b[0;34m\u001b[0m\u001b[0;34m\u001b[0m\u001b[0m\n\u001b[1;32m     60\u001b[0m         \u001b[0mmqry\u001b[0m \u001b[0;34m=\u001b[0m \u001b[0mqry\u001b[0m\u001b[0;34m.\u001b[0m\u001b[0mexpand\u001b[0m\u001b[0;34m(\u001b[0m\u001b[0mn\u001b[0m\u001b[0;34m,\u001b[0m \u001b[0mm\u001b[0m\u001b[0;34m,\u001b[0m \u001b[0md\u001b[0m\u001b[0;34m)\u001b[0m\u001b[0;34m.\u001b[0m\u001b[0mtranspose\u001b[0m\u001b[0;34m(\u001b[0m\u001b[0;36m0\u001b[0m\u001b[0;34m,\u001b[0m \u001b[0;36m1\u001b[0m\u001b[0;34m)\u001b[0m\u001b[0;34m\u001b[0m\u001b[0;34m\u001b[0m\u001b[0m\n\u001b[0;32m---> 61\u001b[0;31m         \u001b[0mdist2\u001b[0m \u001b[0;34m=\u001b[0m \u001b[0mtorch\u001b[0m\u001b[0;34m.\u001b[0m\u001b[0msum\u001b[0m\u001b[0;34m(\u001b[0m\u001b[0;34m(\u001b[0m\u001b[0mmqry\u001b[0m \u001b[0;34m-\u001b[0m \u001b[0mmref\u001b[0m\u001b[0;34m)\u001b[0m\u001b[0;34m**\u001b[0m\u001b[0;36m2\u001b[0m\u001b[0;34m,\u001b[0m \u001b[0;36m2\u001b[0m\u001b[0;34m)\u001b[0m\u001b[0;34m.\u001b[0m\u001b[0msqueeze\u001b[0m\u001b[0;34m(\u001b[0m\u001b[0;34m)\u001b[0m\u001b[0;34m\u001b[0m\u001b[0;34m\u001b[0m\u001b[0m\n\u001b[0m\u001b[1;32m     62\u001b[0m         \u001b[0m_\u001b[0m\u001b[0;34m,\u001b[0m \u001b[0minds\u001b[0m \u001b[0;34m=\u001b[0m \u001b[0mtorch\u001b[0m\u001b[0;34m.\u001b[0m\u001b[0mtopk\u001b[0m\u001b[0;34m(\u001b[0m\u001b[0mdist2\u001b[0m\u001b[0;34m,\u001b[0m \u001b[0mk\u001b[0m\u001b[0;34m*\u001b[0m\u001b[0md\u001b[0m \u001b[0;34m+\u001b[0m \u001b[0;36m1\u001b[0m\u001b[0;34m,\u001b[0m \u001b[0mdim\u001b[0m \u001b[0;34m=\u001b[0m \u001b[0;36m1\u001b[0m\u001b[0;34m,\u001b[0m \u001b[0mlargest\u001b[0m \u001b[0;34m=\u001b[0m \u001b[0;32mFalse\u001b[0m\u001b[0;34m)\u001b[0m\u001b[0;34m\u001b[0m\u001b[0;34m\u001b[0m\u001b[0m\n\u001b[1;32m     63\u001b[0m         \u001b[0mregion_idx\u001b[0m\u001b[0;34m.\u001b[0m\u001b[0mappend\u001b[0m\u001b[0;34m(\u001b[0m\u001b[0minds\u001b[0m\u001b[0;34m[\u001b[0m\u001b[0;34m:\u001b[0m\u001b[0;34m,\u001b[0m\u001b[0;36m1\u001b[0m\u001b[0;34m:\u001b[0m\u001b[0;34m:\u001b[0m\u001b[0md\u001b[0m\u001b[0;34m]\u001b[0m\u001b[0;34m)\u001b[0m\u001b[0;34m\u001b[0m\u001b[0;34m\u001b[0m\u001b[0m\n",
            "\u001b[0;31mKeyboardInterrupt\u001b[0m: "
          ]
        }
      ]
    },
    {
      "cell_type": "code",
      "metadata": {
        "colab": {
          "base_uri": "https://localhost:8080/"
        },
        "id": "g6bt9IVL1gKd",
        "outputId": "48e317e1-dcec-4225-c77a-158d33d62ef0"
      },
      "source": [
        "seg_np.shape"
      ],
      "execution_count": 25,
      "outputs": [
        {
          "output_type": "execute_result",
          "data": {
            "text/plain": [
              "(16, 2048)"
            ]
          },
          "metadata": {
            "tags": []
          },
          "execution_count": 25
        }
      ]
    },
    {
      "cell_type": "code",
      "metadata": {
        "colab": {
          "base_uri": "https://localhost:8080/",
          "height": 171
        },
        "id": "gRwwqxRK0u6q",
        "outputId": "bc46b97e-b892-4229-ea53-e8957025d66a"
      },
      "source": [
        "seg_pred.cpu().numpy()"
      ],
      "execution_count": 22,
      "outputs": [
        {
          "output_type": "error",
          "ename": "RuntimeError",
          "evalue": "ignored",
          "traceback": [
            "\u001b[0;31m---------------------------------------------------------------------------\u001b[0m",
            "\u001b[0;31mRuntimeError\u001b[0m                              Traceback (most recent call last)",
            "\u001b[0;32m<ipython-input-22-68037cac11ea>\u001b[0m in \u001b[0;36m<module>\u001b[0;34m()\u001b[0m\n\u001b[0;32m----> 1\u001b[0;31m \u001b[0mseg_pred\u001b[0m\u001b[0;34m.\u001b[0m\u001b[0mcpu\u001b[0m\u001b[0;34m(\u001b[0m\u001b[0;34m)\u001b[0m\u001b[0;34m.\u001b[0m\u001b[0mnumpy\u001b[0m\u001b[0;34m(\u001b[0m\u001b[0;34m)\u001b[0m\u001b[0;34m\u001b[0m\u001b[0;34m\u001b[0m\u001b[0m\n\u001b[0m",
            "\u001b[0;31mRuntimeError\u001b[0m: Can't call numpy() on Tensor that requires grad. Use tensor.detach().numpy() instead."
          ]
        }
      ]
    },
    {
      "cell_type": "code",
      "metadata": {
        "colab": {
          "base_uri": "https://localhost:8080/"
        },
        "id": "0RM2kfDw0P9F",
        "outputId": "86978057-dda7-49cf-e468-0a600b608353"
      },
      "source": [
        "train_pred_cls"
      ],
      "execution_count": 16,
      "outputs": [
        {
          "output_type": "execute_result",
          "data": {
            "text/plain": [
              "[tensor([0.0000, 0.0000, 0.0000,  ..., 0.0000, 1.4047, 0.7964], device='cuda:0')]"
            ]
          },
          "metadata": {
            "tags": []
          },
          "execution_count": 16
        }
      ]
    }
  ]
}